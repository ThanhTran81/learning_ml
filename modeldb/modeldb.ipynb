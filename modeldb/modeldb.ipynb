{
 "cells": [
  {
   "cell_type": "code",
   "execution_count": 3,
   "metadata": {
    "collapsed": true
   },
   "outputs": [],
   "source": [
    "import pandas as pd\n",
    "from sklearn import linear_model\n",
    "from sklearn.metrics import accuracy_score\n",
    "\n",
    "from modeldb.sklearn_native.ModelDbSyncer import *\n",
    "from modeldb.sklearn_native import SyncableMetrics\n",
    "\n",
    "DATA_PATH = 'file:///C:/Users/Tran/git/_learning/learning_ml/data/'\n",
    "\n",
    "'''\n",
    "Source: http://archive.ics.uci.edu/ml/datasets/default+of+credit+card+clients\n",
    "'''\n",
    "\n",
    "# modeldb start\n",
    "\n",
    "name = \"simple sample 2\"\n",
    "author = \"srinidhi\"\n",
    "description = \"simple LR for credit default prediction\"\n",
    "syncer_obj = Syncer(\n",
    "    NewOrExistingProject(name, author, description),\n",
    "    DefaultExperiment(),\n",
    "    NewExperimentRun(\"credit test\"))\n",
    "\n",
    "# modeldb end\n",
    "\n"
   ]
  },
  {
   "cell_type": "code",
   "execution_count": 4,
   "metadata": {},
   "outputs": [],
   "source": [
    "# modeldb start\n",
    "df = pd.read_csv_sync(DATA_PATH + 'credit-default.csv', skiprows=[0])\n",
    "# modeldb end\n",
    "\n",
    "target = df['default payment next month']\n",
    "df = df[[\"LIMIT_BAL\", \"SEX\", \"EDUCATION\", \"MARRIAGE\", \"AGE\"]]\n",
    "\n",
    "x_train, x_test, y_train, y_test = cross_validation.train_test_split_sync(\n",
    "    df, target, test_size=0.3)\n",
    "\n",
    "lr = linear_model.LogisticRegression(C=2)\n",
    "\n",
    "# modeldb start\n",
    "lr.fit_sync(x_train, y_train)\n",
    "# modeldb end\n",
    "\n",
    "# modeldb start\n",
    "y_pred = lr.predict_sync(x_test)\n",
    "# modeldb end\n",
    "\n",
    "# modeldb start\n",
    "score = SyncableMetrics.compute_metrics(\n",
    "    lr, accuracy_score, y_test, y_pred, x_train, \"features\",\n",
    "    'default payment next month')\n",
    "# modeldb end\n",
    "\n",
    "# modeldb start\n",
    "syncer_obj.sync()\n",
    "# modeldb end"
   ]
  },
  {
   "cell_type": "code",
   "execution_count": 12,
   "metadata": {},
   "outputs": [],
   "source": []
  },
  {
   "cell_type": "code",
   "execution_count": 12,
   "metadata": {},
   "outputs": [],
   "source": []
  },
  {
   "cell_type": "code",
   "execution_count": null,
   "metadata": {},
   "outputs": [],
   "source": []
  }
 ],
 "metadata": {
  "kernelspec": {
   "display_name": "Python 2",
   "language": "python",
   "name": "python2"
  },
  "language_info": {
   "codemirror_mode": {
    "name": "ipython",
    "version": 2
   },
   "file_extension": ".py",
   "mimetype": "text/x-python",
   "name": "python",
   "nbconvert_exporter": "python",
   "pygments_lexer": "ipython2",
   "version": "2.7.6"
  }
 },
 "nbformat": 4,
 "nbformat_minor": 0
}
